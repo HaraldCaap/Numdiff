{
 "cells": [
  {
   "attachments": {},
   "cell_type": "markdown",
   "metadata": {},
   "source": [
    "### Project 0"
   ]
  },
  {
   "cell_type": "code",
   "execution_count": 64,
   "metadata": {},
   "outputs": [],
   "source": [
    "import numpy as np\n",
    "import matplotlib as plt\n",
    "import scipy.linalg"
   ]
  },
  {
   "cell_type": "code",
   "execution_count": 26,
   "metadata": {},
   "outputs": [],
   "source": []
  },
  {
   "cell_type": "code",
   "execution_count": 67,
   "metadata": {},
   "outputs": [],
   "source": [
    "def eulerstep(A, uold, h):\n",
    "    y_prim = A@uold\n",
    "    unew = uold + y_prim*h\n",
    "    return unew\n",
    "\n",
    "def eulerint(A, y0, t0, tf, N):\n",
    "    y_new =  eulerstep(A, y0, (tf-t0)/N) #first step\n",
    "    for i in range(N-1):\n",
    "        y_new = eulerstep(A, y_new, (tf-t0)/N)\n",
    "    \n",
    "    exact_value = scipy.linalg.expm(tf*A)\n",
    "    print(exact_value)\n",
    "    tgrid = 0\n",
    "    approx = y_new\n",
    "    err = exact_value-approx\n",
    "    return tgrid, approx, err"
   ]
  },
  {
   "cell_type": "code",
   "execution_count": 60,
   "metadata": {},
   "outputs": [
    {
     "data": {
      "text/plain": [
       "array([1.5, 3.1])"
      ]
     },
     "execution_count": 60,
     "metadata": {},
     "output_type": "execute_result"
    }
   ],
   "source": [
    "A = np.array([[1,2],[3,4]])\n",
    "uold = np.array([1,2])\n",
    "h = 0.1\n",
    "eulerstep(A, uold, h)\n",
    "#eulerstep "
   ]
  },
  {
   "cell_type": "code",
   "execution_count": 68,
   "metadata": {},
   "outputs": [
    {
     "name": "stdout",
     "output_type": "stream",
     "text": [
      "[[11079.1035333  16146.29362577]\n",
      " [24219.44043865 35298.54397195]]\n"
     ]
    },
    {
     "data": {
      "text/plain": [
       "(0,\n",
       " array([1380.23810888, 3017.30878863]),\n",
       " array([[ 9698.86542442, 13128.98483713],\n",
       "        [22839.20232977, 32281.23518331]]))"
      ]
     },
     "execution_count": 68,
     "metadata": {},
     "output_type": "execute_result"
    }
   ],
   "source": [
    "y0 =np.array([1,2])\n",
    "t0 = 0\n",
    "tf = 2\n",
    "N = 10\n",
    "eulerint(A, y0, t0, tf, N)"
   ]
  }
 ],
 "metadata": {
  "kernelspec": {
   "display_name": "base",
   "language": "python",
   "name": "python3"
  },
  "language_info": {
   "codemirror_mode": {
    "name": "ipython",
    "version": 3
   },
   "file_extension": ".py",
   "mimetype": "text/x-python",
   "name": "python",
   "nbconvert_exporter": "python",
   "pygments_lexer": "ipython3",
   "version": "3.8.8"
  },
  "orig_nbformat": 4
 },
 "nbformat": 4,
 "nbformat_minor": 2
}
